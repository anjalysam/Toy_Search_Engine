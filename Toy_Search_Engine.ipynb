{
  "nbformat": 4,
  "nbformat_minor": 0,
  "metadata": {
    "colab": {
      "name": "Toy_Search_Engine.ipynb",
      "provenance": [],
      "collapsed_sections": [],
      "authorship_tag": "ABX9TyNxlfX0JwvnhQ2MciKvL6UV",
      "include_colab_link": true
    },
    "kernelspec": {
      "name": "python3",
      "display_name": "Python 3"
    }
  },
  "cells": [
    {
      "cell_type": "markdown",
      "metadata": {
        "id": "view-in-github",
        "colab_type": "text"
      },
      "source": [
        "<a href=\"https://colab.research.google.com/github/anjalysam/Toy_Search_Engine/blob/master/Toy_Search_Engine.ipynb\" target=\"_parent\"><img src=\"https://colab.research.google.com/assets/colab-badge.svg\" alt=\"Open In Colab\"/></a>"
      ]
    },
    {
      "cell_type": "markdown",
      "metadata": {
        "id": "ky_2DdZROraE",
        "colab_type": "text"
      },
      "source": [
        "\n",
        "###**create a toy search engine using Python. Use 20newsgroups dataset available at http://qwone.com/~jason/20Newsgroups.**\n",
        "\n",
        "\n",
        "\n",
        "*Required feature: For a given string, search results should return the top 3 most relevant documents. It should also highlight the part of the document where the search string occurs. Use your imagination to modify and add more advanced functionalities.*"
      ]
    },
    {
      "cell_type": "markdown",
      "metadata": {
        "id": "e6UzvDzxRXWY",
        "colab_type": "text"
      },
      "source": [
        "#step\n",
        "**1.Run all the cell one by one**\n",
        "\n",
        "**2.when promted enter a word**\n",
        "\n",
        "**3.the word should be in english**"
      ]
    },
    {
      "cell_type": "code",
      "metadata": {
        "id": "yh7brdEL3mmz",
        "colab_type": "code",
        "colab": {
          "base_uri": "https://localhost:8080/",
          "height": 204
        },
        "outputId": "6c76137d-d0ac-41bf-b18d-d167ce42fcdd"
      },
      "source": [
        "#download the file \n",
        "\n",
        "!wget --no-check-certificate \\\n",
        "   http://qwone.com/~jason/20Newsgroups/20news-18828.tar.gz \\\n",
        "    -O /tmp/20news-18828.tar.gz\n",
        "\n",
        "\n",
        "#import libraries\n",
        "import os\n",
        "import tarfile\n",
        "import pandas as pd\n",
        "import re\n",
        "\n",
        "#extarct the folders\n",
        "local_zip = '/tmp/20news-18828.tar.gz'\n",
        "my_tar = tarfile.open( '/tmp/20news-18828.tar.gz')\n",
        "my_tar.extractall('./tmp')\n",
        "my_tar.close()"
      ],
      "execution_count": 1,
      "outputs": [
        {
          "output_type": "stream",
          "text": [
            "--2020-08-16 17:45:31--  http://qwone.com/~jason/20Newsgroups/20news-18828.tar.gz\n",
            "Resolving qwone.com (qwone.com)... 108.20.201.166\n",
            "Connecting to qwone.com (qwone.com)|108.20.201.166|:80... connected.\n",
            "HTTP request sent, awaiting response... 200 OK\n",
            "Length: 14666916 (14M) [application/x-gzip]\n",
            "Saving to: ‘/tmp/20news-18828.tar.gz’\n",
            "\n",
            "/tmp/20news-18828.t 100%[===================>]  13.99M  6.70MB/s    in 2.1s    \n",
            "\n",
            "2020-08-16 17:45:33 (6.70 MB/s) - ‘/tmp/20news-18828.tar.gz’ saved [14666916/14666916]\n",
            "\n"
          ],
          "name": "stdout"
        }
      ]
    },
    {
      "cell_type": "code",
      "metadata": {
        "id": "d4iQQ_kY34kp",
        "colab_type": "code",
        "colab": {
          "base_uri": "https://localhost:8080/",
          "height": 54
        },
        "outputId": "10fedd24-ee71-4ea3-c1c9-8053bef83054"
      },
      "source": [
        "#store folders name into a variable\n",
        "folders=os.listdir(\"/content/tmp/20news-18828\")\n",
        "print(folders)"
      ],
      "execution_count": 2,
      "outputs": [
        {
          "output_type": "stream",
          "text": [
            "['rec.autos', 'rec.sport.hockey', 'comp.sys.ibm.pc.hardware', 'rec.motorcycles', 'talk.politics.misc', 'comp.os.ms-windows.misc', 'soc.religion.christian', 'comp.windows.x', 'sci.electronics', 'talk.politics.mideast', 'sci.crypt', 'rec.sport.baseball', 'talk.religion.misc', 'sci.med', 'comp.sys.mac.hardware', 'alt.atheism', 'misc.forsale', 'sci.space', 'talk.politics.guns', 'comp.graphics']\n"
          ],
          "name": "stdout"
        }
      ]
    },
    {
      "cell_type": "code",
      "metadata": {
        "id": "NoIAXrD737e8",
        "colab_type": "code",
        "colab": {}
      },
      "source": [
        "#creating  a dictionary with key as folder name and values as file name\n",
        "folder_file_dict={}\n",
        "\n",
        "for folder in folders:\n",
        "  files=os.listdir(\"/content/tmp/20news-18828/\"+folder)\n",
        "  folder_file_dict[folder]=files\n",
        "\n",
        "#print(folder_file_dict)"
      ],
      "execution_count": 3,
      "outputs": []
    },
    {
      "cell_type": "code",
      "metadata": {
        "id": "paW9_xkI34x8",
        "colab_type": "code",
        "colab": {}
      },
      "source": [
        "# extracting words from each file, calculating the count and adds to the dictionary\n",
        "\n",
        "words_in_files = {}\n",
        "\n",
        "for folder in folders:\n",
        "    files = os.listdir(\"tmp/20news-18828/\"+folder)\n",
        "    for file in files:\n",
        "        word_count = {}\n",
        "        file_data = open(\"tmp/20news-18828/\"+folder+'/'+file,encoding=\"utf8\",errors='ignore').read()\n",
        "        file_date = file_data.strip()\n",
        "        file_data = file_data.lower()\n",
        "        file_data = re.findall(r'[a-z]+', file_data)\n",
        "        for word in file_data:\n",
        "            if word in word_count:\n",
        "                word_count[word] = word_count[word]+1\n",
        "            else:\n",
        "                word_count[word] = 1\n",
        "        words_in_files[file] = word_count\n",
        "        #print(word_count)\n",
        "        \n"
      ],
      "execution_count": 4,
      "outputs": []
    },
    {
      "cell_type": "code",
      "metadata": {
        "id": "Ug_HC_y-Dbw3",
        "colab_type": "code",
        "colab": {
          "base_uri": "https://localhost:8080/",
          "height": 176
        },
        "outputId": "83beb17d-5024-4429-f4f5-ce4b30060e87"
      },
      "source": [
        "#to search a word\n",
        "search_word=input(\"enter the word: \")\n",
        "a=0\n",
        "b=0\n",
        "c=0\n",
        "for file in words_in_files:\n",
        "    if search_word in words_in_files[str(file)]:\n",
        "\n",
        "      path = \"\"\n",
        "      for folder in folder_file_dict:\n",
        "        if file in folder_file_dict[folder]:\n",
        "          path = \"tmp/20news-18828/\" + folder + '/' + str(file)\n",
        "\n",
        "      count=words_in_files[str(file)][search_word]\n",
        "      if count>a:\n",
        "        a=count\n",
        "        document1=str(file)\n",
        "        path1=str(path)\n",
        "      elif count>b:\n",
        "        b=count\n",
        "        document2=str(file)\n",
        "        path2=str(path)\n",
        "      elif count>c:\n",
        "        c=count\n",
        "        document3=str(file)\n",
        "        path3=str(path)\n",
        "      else:\n",
        "        pass\n",
        "\n",
        "        \n",
        "#storing result in a dataframe\n",
        "data={\"file\":[document1,document2,document3],\"path\":[path1,path2,path3],\"count\":[str(a),str(b),str(c)]}\n",
        "df=pd.DataFrame(data,index=[\"first\",\"second\",\"third\"])\n",
        "print(\"Top 3 most relavent documents:\")\n",
        "df\n",
        "\n"
      ],
      "execution_count": 5,
      "outputs": [
        {
          "output_type": "stream",
          "text": [
            "enter the word: cannon\n",
            "Top 3 most relavent documents:\n"
          ],
          "name": "stdout"
        },
        {
          "output_type": "execute_result",
          "data": {
            "text/html": [
              "<div>\n",
              "<style scoped>\n",
              "    .dataframe tbody tr th:only-of-type {\n",
              "        vertical-align: middle;\n",
              "    }\n",
              "\n",
              "    .dataframe tbody tr th {\n",
              "        vertical-align: top;\n",
              "    }\n",
              "\n",
              "    .dataframe thead th {\n",
              "        text-align: right;\n",
              "    }\n",
              "</style>\n",
              "<table border=\"1\" class=\"dataframe\">\n",
              "  <thead>\n",
              "    <tr style=\"text-align: right;\">\n",
              "      <th></th>\n",
              "      <th>file</th>\n",
              "      <th>path</th>\n",
              "      <th>count</th>\n",
              "    </tr>\n",
              "  </thead>\n",
              "  <tbody>\n",
              "    <tr>\n",
              "      <th>first</th>\n",
              "      <td>60805</td>\n",
              "      <td>tmp/20news-18828/comp.sys.ibm.pc.hardware/60805</td>\n",
              "      <td>3</td>\n",
              "    </tr>\n",
              "    <tr>\n",
              "      <th>second</th>\n",
              "      <td>20499</td>\n",
              "      <td>tmp/20news-18828/soc.religion.christian/20499</td>\n",
              "      <td>3</td>\n",
              "    </tr>\n",
              "    <tr>\n",
              "      <th>third</th>\n",
              "      <td>54215</td>\n",
              "      <td>tmp/20news-18828/talk.politics.guns/54215</td>\n",
              "      <td>2</td>\n",
              "    </tr>\n",
              "  </tbody>\n",
              "</table>\n",
              "</div>"
            ],
            "text/plain": [
              "         file                                             path count\n",
              "first   60805  tmp/20news-18828/comp.sys.ibm.pc.hardware/60805     3\n",
              "second  20499    tmp/20news-18828/soc.religion.christian/20499     3\n",
              "third   54215        tmp/20news-18828/talk.politics.guns/54215     2"
            ]
          },
          "metadata": {
            "tags": []
          },
          "execution_count": 5
        }
      ]
    }
  ]
}