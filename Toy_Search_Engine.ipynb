{
  "nbformat": 4,
  "nbformat_minor": 0,
  "metadata": {
    "colab": {
      "name": "Toy_Search_Engine.ipynb",
      "provenance": [],
      "authorship_tag": "ABX9TyODZy5tY1LeUfekfnUJBj7c"
    },
    "kernelspec": {
      "name": "python3",
      "display_name": "Python 3"
    }
  },
  "cells": [
    {
      "cell_type": "markdown",
      "metadata": {
        "id": "ky_2DdZROraE",
        "colab_type": "text"
      },
      "source": [
        "\n",
        "###**create a toy search engine using Python. Use 20newsgroups dataset available at http://qwone.com/~jason/20Newsgroups.**\n",
        "\n",
        "\n",
        "\n",
        "*Required feature: For a given string, search results should return the top 3 most relevant documents. It should also highlight the part of the document where the search string occurs. Use your imagination to modify and add more advanced functionalities.*"
      ]
    },
    {
      "cell_type": "code",
      "metadata": {
        "id": "NznJPS3ia3AK",
        "colab_type": "code",
        "colab": {}
      },
      "source": [
        "#download the file \n",
        "\n",
        "!wget --no-check-certificate \\\n",
        "   http://qwone.com/~jason/20Newsgroups/20news-18828.tar.gz \\\n",
        "    -O /tmp/20news-18828.tar.gz\n",
        "\n",
        "\n",
        "#import libraries\n",
        "import os\n",
        "import tarfile\n",
        "import pandas as pd\n",
        "import re\n",
        "\n",
        "#extarct the folders\n",
        "local_zip = '/tmp/20news-18828.tar.gz'\n",
        "my_tar = tarfile.open( '/tmp/20news-18828.tar.gz')\n",
        "my_tar.extractall('./tmp')\n",
        "my_tar.close()"
      ],
      "execution_count": null,
      "outputs": []
    },
    {
      "cell_type": "code",
      "metadata": {
        "id": "_B4QhvGWbQR-",
        "colab_type": "code",
        "colab": {}
      },
      "source": [
        "#store folders name into a variable\n",
        "folders=os.listdir(\"/content/tmp/20news-18828\")\n",
        "print(folders)\n",
        "\n",
        "\n",
        "#creating  a dictionary with key as folder name and values as file name\n",
        "folder_file_dict={}\n",
        "\n",
        "for folder in folders:\n",
        "  files=os.listdir(\"/content/tmp/20news-18828/\"+folder)\n",
        "  folder_file_dict[folder]=files\n",
        "\n",
        "print(folder_file_dict)"
      ],
      "execution_count": null,
      "outputs": []
    },
    {
      "cell_type": "code",
      "metadata": {
        "id": "QbZbiVpPbQXU",
        "colab_type": "code",
        "colab": {}
      },
      "source": [
        "#creating dictionary with word and count\n",
        "words_in_files = {}\n",
        "\n",
        "for folder in folders:\n",
        "    files = os.listdir(\"tmp/20news-18828/\"+folder)\n",
        "    for file in files:\n",
        "        word_count = {}\n",
        "        file_data = open(\"tmp/20news-18828/\"+folder+'/'+file,encoding=\"utf8\",errors='ignore').read()\n",
        "        file_date = file_data.strip()\n",
        "        file_data = file_data.lower()\n",
        "        file_data = re.findall(r'[a-z]+', file_data)\n",
        "        for word in file_data:\n",
        "            if word in word_count:\n",
        "                word_count[word] = word_count[word]+1\n",
        "            else:\n",
        "                word_count[word] = 1\n",
        "        words_in_files[file] = word_count\n",
        "        #print(word_count)"
      ],
      "execution_count": null,
      "outputs": []
    },
    {
      "cell_type": "code",
      "metadata": {
        "id": "Rvz4HOL_bQWg",
        "colab_type": "code",
        "colab": {
          "base_uri": "https://localhost:8080/",
          "height": 176
        },
        "outputId": "f943cf7b-c249-4c98-ad52-ad31f0488683"
      },
      "source": [
        "#to search a word\n",
        "search_word=input(\"enter the word: \")\n",
        "l=[]\n",
        "for file in words_in_files:\n",
        "    if search_word in words_in_files[str(file)]:\n",
        "\n",
        "      path = \"\"\n",
        "      for folder in folder_file_dict:\n",
        "        if file in folder_file_dict[folder]:\n",
        "          path = \"tmp/20news-18828/\" + folder + '/' + str(file)\n",
        "\n",
        "      count=words_in_files[str(file)][search_word]\n",
        "      l.append((file,path,count))\n",
        "\n",
        "# take third element for sort\n",
        "def takethird(elem):\n",
        "    return elem[2]\n",
        "\n",
        "l.sort(key=takethird,reverse=True)\n",
        "\n",
        "#storing 3 most relevent ducument to a dataframe\n",
        "datas={\"file_name\":[l[0][0],l[1][0],l[2][0]],\"path\":[l[0][1],l[1][1],l[2][1]],\"counts\":[l[0][2],l[1][2],l[2][2]]}\n",
        "dfs=pd.DataFrame(datas,index=[\"First\",\"Second\",\"Third\"])\n",
        "print(\"Top 3 most relavent documents:\")\n",
        "dfs\n"
      ],
      "execution_count": null,
      "outputs": [
        {
          "output_type": "stream",
          "text": [
            "enter the word: identical\n",
            "Top 3 most relavent documents:\n"
          ],
          "name": "stdout"
        },
        {
          "output_type": "execute_result",
          "data": {
            "text/html": [
              "<div>\n",
              "<style scoped>\n",
              "    .dataframe tbody tr th:only-of-type {\n",
              "        vertical-align: middle;\n",
              "    }\n",
              "\n",
              "    .dataframe tbody tr th {\n",
              "        vertical-align: top;\n",
              "    }\n",
              "\n",
              "    .dataframe thead th {\n",
              "        text-align: right;\n",
              "    }\n",
              "</style>\n",
              "<table border=\"1\" class=\"dataframe\">\n",
              "  <thead>\n",
              "    <tr style=\"text-align: right;\">\n",
              "      <th></th>\n",
              "      <th>file_name</th>\n",
              "      <th>path</th>\n",
              "      <th>counts</th>\n",
              "    </tr>\n",
              "  </thead>\n",
              "  <tbody>\n",
              "    <tr>\n",
              "      <th>First</th>\n",
              "      <td>38403</td>\n",
              "      <td>tmp/20news-18828/comp.graphics/38403</td>\n",
              "      <td>4</td>\n",
              "    </tr>\n",
              "    <tr>\n",
              "      <th>Second</th>\n",
              "      <td>39638</td>\n",
              "      <td>tmp/20news-18828/comp.graphics/39638</td>\n",
              "      <td>4</td>\n",
              "    </tr>\n",
              "    <tr>\n",
              "      <th>Third</th>\n",
              "      <td>39078</td>\n",
              "      <td>tmp/20news-18828/comp.graphics/39078</td>\n",
              "      <td>4</td>\n",
              "    </tr>\n",
              "  </tbody>\n",
              "</table>\n",
              "</div>"
            ],
            "text/plain": [
              "       file_name                                  path  counts\n",
              "First      38403  tmp/20news-18828/comp.graphics/38403       4\n",
              "Second     39638  tmp/20news-18828/comp.graphics/39638       4\n",
              "Third      39078  tmp/20news-18828/comp.graphics/39078       4"
            ]
          },
          "metadata": {
            "tags": []
          },
          "execution_count": 4
        }
      ]
    },
    {
      "cell_type": "markdown",
      "metadata": {
        "id": "cI_8r0VhsZMy",
        "colab_type": "text"
      },
      "source": [
        "##Highlighting the Search Word\n",
        "\n",
        "\n",
        "\n",
        "\n"
      ]
    },
    {
      "cell_type": "code",
      "metadata": {
        "id": "ZIGXA-o4dM2I",
        "colab_type": "code",
        "colab": {
          "base_uri": "https://localhost:8080/",
          "height": 527
        },
        "outputId": "be94b1bf-f2a3-4dea-de49-9222ad71e87b"
      },
      "source": [
        "for path in dfs[\"path\"]:\n",
        "  print(\"path:\"+path)\n",
        "  file_data = open(path,encoding=\"utf8\",errors='ignore',mode='rt')\n",
        "  for line in file_data:\n",
        "    if search_word in line:\n",
        "      highlight_search_word =  \"\\x1b[1;94m\"+search_word.upper()+\"\\x1b[0m\"\n",
        "      highlight_word = re.compile(re.escape(search_word),re.IGNORECASE)\n",
        "      highlight_word = re.compile(search_word)\n",
        "      data = highlight_word.sub(highlight_search_word,line)\n",
        "      print(data)\n",
        "  print(\"============================================\")"
      ],
      "execution_count": null,
      "outputs": [
        {
          "output_type": "stream",
          "text": [
            "path:tmp/20news-18828/comp.graphics/38403\n",
            "quite \u001b[1;94mIDENTICAL\u001b[0m to what you originally put in.  The algorithm achieves much\n",
            "\n",
            "differently, so two pixels that started with \u001b[1;94mIDENTICAL\u001b[0m colors will probably\n",
            "\n",
            "final output is bit-for-bit \u001b[1;94mIDENTICAL\u001b[0m to the original input.  However, this\n",
            "\n",
            "\u001b[1;94mIDENTICAL\u001b[0m JPEG file.  Even this is not true; at least, not with the current\n",
            "\n",
            "============================================\n",
            "path:tmp/20news-18828/comp.graphics/39638\n",
            "quite \u001b[1;94mIDENTICAL\u001b[0m to what you originally put in.  The algorithm achieves much\n",
            "\n",
            "differently, so two pixels that started with \u001b[1;94mIDENTICAL\u001b[0m colors will probably\n",
            "\n",
            "final output is bit-for-bit \u001b[1;94mIDENTICAL\u001b[0m to the original input.  However, this\n",
            "\n",
            "\u001b[1;94mIDENTICAL\u001b[0m JPEG file.  Even this is not true; at least, not with the current\n",
            "\n",
            "============================================\n",
            "path:tmp/20news-18828/comp.graphics/39078\n",
            "quite \u001b[1;94mIDENTICAL\u001b[0m to what you originally put in.  The algorithm achieves much\n",
            "\n",
            "differently, so two pixels that started with \u001b[1;94mIDENTICAL\u001b[0m colors will probably\n",
            "\n",
            "final output is bit-for-bit \u001b[1;94mIDENTICAL\u001b[0m to the original input.  However, this\n",
            "\n",
            "\u001b[1;94mIDENTICAL\u001b[0m JPEG file.  Even this is not true; at least, not with the current\n",
            "\n",
            "============================================\n"
          ],
          "name": "stdout"
        }
      ]
    },
    {
      "cell_type": "code",
      "metadata": {
        "id": "pQ9KjA78dNQF",
        "colab_type": "code",
        "colab": {}
      },
      "source": [
        ""
      ],
      "execution_count": null,
      "outputs": []
    }
  ]
}