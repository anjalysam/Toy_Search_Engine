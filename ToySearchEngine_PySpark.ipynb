{
  "nbformat": 4,
  "nbformat_minor": 0,
  "metadata": {
    "colab": {
      "name": "ToySearchEngine_PySpark.ipynb",
      "provenance": [],
      "authorship_tag": "ABX9TyOBluAyFhIkFtscjl0NXP89"
    },
    "kernelspec": {
      "name": "python3",
      "display_name": "Python 3"
    }
  },
  "cells": [
    {
      "cell_type": "markdown",
      "metadata": {
        "id": "v6HLbAfZxJTz"
      },
      "source": [
        "# Toy Search Engine in Spark\n",
        "Create a toy search engine using the Map & Reduce functions you have written in Google colab notebook in Spark. Use map, flatMap, groupByKey and reduceByKey functions to achieve it. Your code should perform the following:\n",
        "\n",
        "0. Punctuation removal\n",
        "1. Lemmatization\n",
        "2. Stemming\n",
        "3. Count \n",
        "\n"
      ]
    },
    {
      "cell_type": "code",
      "metadata": {
        "id": "AiytlGCk5YtV"
      },
      "source": [
        "#get Java\n",
        "!apt-get install openjdk-8-jdk-headless -qq \n",
        "\n",
        "\n",
        "#get Spark\n",
        "!wget https://mirrors.estointernet.in/apache/spark/spark-3.0.1/spark-3.0.1-bin-hadoop2.7.tgz \n",
        "\n",
        "\n",
        "\n",
        "#extract Spark\n",
        "!tar xf spark-3.0.1-bin-hadoop2.7.tgz\n",
        "\n",
        "\n",
        "\n",
        "#get FindSpark for notebook\n",
        "!pip install -q findspark"
      ],
      "execution_count": null,
      "outputs": []
    },
    {
      "cell_type": "code",
      "metadata": {
        "id": "zw13cjfU8LZB"
      },
      "source": [
        "#set env for Java and Spark\n",
        "import os\n",
        "os.environ[\"JAVA_HOME\"] = \"/usr/lib/jvm/java-8-openjdk-amd64\"\n",
        "os.environ[\"SPARK_HOME\"] = \"/content/spark-3.0.1-bin-hadoop2.7\""
      ],
      "execution_count": null,
      "outputs": []
    },
    {
      "cell_type": "code",
      "metadata": {
        "id": "FyOXFTU48Ofc"
      },
      "source": [
        "#run findspark\n",
        "import findspark\n",
        "findspark.init()\n",
        "\n",
        "\n",
        "# import pyspark\n",
        "from pyspark import SparkContext, SparkConf\n",
        "from pyspark.sql import SparkSession\n",
        "\n",
        "\n",
        "# create the session\n",
        "conf = SparkConf()\n",
        "\n",
        "# create the context\n",
        "sc = SparkContext.getOrCreate(conf=conf)\n",
        "spark = SparkSession.builder.getOrCreate()"
      ],
      "execution_count": null,
      "outputs": []
    },
    {
      "cell_type": "code",
      "metadata": {
        "id": "RnRpLs608dHJ"
      },
      "source": [
        "#get 20newbytes\n",
        "!wget http://qwone.com/~jason/20Newsgroups/20news-18828.tar.gz\n",
        "\n",
        "#extract 20newsbytes\n",
        "!tar xzf 20news-18828.tar.gz\n",
        "\n",
        "#consolidate\n",
        "!cat 20news-18828/*/* > DataFile.txt\n",
        "\n"
      ],
      "execution_count": null,
      "outputs": []
    },
    {
      "cell_type": "code",
      "metadata": {
        "id": "Mg0LJL8EYEk7"
      },
      "source": [
        "#read directory of files,and each file read as single record and it returned in a key value pair and each key represent path of file and value represent content of each file\n",
        "\n",
        "rddWhole = spark.sparkContext.wholeTextFiles(\"/content/20news-18828/*\")\n",
        "rddWhole.collect()"
      ],
      "execution_count": null,
      "outputs": []
    },
    {
      "cell_type": "markdown",
      "metadata": {
        "id": "U-q1oKMFygBj"
      },
      "source": [
        "#1.Punctuation removal\n"
      ]
    },
    {
      "cell_type": "code",
      "metadata": {
        "id": "0N_8U9yLabTl",
        "outputId": "2619fda3-b0de-4026-f697-f12d20b95bd8",
        "colab": {
          "base_uri": "https://localhost:8080/"
        }
      },
      "source": [
        "#function for removing punctuation\n",
        "\n",
        "import re,string\n",
        "\n",
        "def remove_punc(x):\n",
        "  res = re.sub(r'[^\\w\\s]', ' ', x)\n",
        "  return res\n",
        "\n",
        "one_RDD=rddWhole.mapValues(remove_punc)\n",
        "one_RDD.take(10)"
      ],
      "execution_count": null,
      "outputs": [
        {
          "output_type": "execute_result",
          "data": {
            "text/plain": [
              "[('file:/content/20news-18828/rec.sport.hockey/54507',\n",
              "  'From  etxonss ufsa ericsson se  Staffan Axelsson \\nSubject  WC 93  Scores and standings  April 25\\n\\n\\n 1993 World Championships in Germany \\n                                     \\n\\n  Group A standings  Munich             Group B standings  Dortmund \\n                                                                    \\n\\n             GP  W T L  GF GA      P                  GP  W T L  GF GA      P\\n\\n  Canada      5  5 0 0  31  4  27 10    Czech republic 5  4 1 0  17  4  13  9\\n  Sweden      5  3 0 2  17 14   3  6    Germany        5  4 0 1  20 12   8  8\\n  Russia      5  2 1 2  15 12   3  5    USA            5  2 2 1  14 10   4  6\\n  Switzerland 5  2 0 3  11 14   3  4    Finland        5  2 1 2   7  7   0  5\\n                                                                             \\n  Italy       4  1 1 2   7 19  12  3    Norway         4  0 0 4   1 13  12  0\\n  Austria     4  0 0 4   3 21  18  0    France         4  0 0 4   6 19  13  0\\n\\n \\n April 18   Italy   Russia        2 2       Norway   Germany          0 6\\n            Sweden   Austria      1 0       USA   Czech republic      1 1\\n\\n April 19   Canada   Switzerland  2 0\\n            Russia   Austria      4 2       Finland   France          2 0\\n\\n April 20   Sweden   Canada       1 4       Czech republic   Germany  5 0\\n            Switzerland   Italy   0 1       Finland   USA             1 1\\n\\n April 21                                   Germany   France          5 3\\n            Italy   Sweden        2 6       Czech republic   Norway   2 0\\n\\n April 22   Switzerland   Russia  0 6       USA   France              6 1\\n            Austria   Canada      0 11      Norway   Finland          0 2\\n\\n April 23   Switzerland   Austria 5 1       Germany   Finland         3 1\\n\\n April 24   Russia   Sweden       2 5       Czech republic   France   6 2\\n            Canada   Italy       11 2       USA   Norway              3 1\\n\\n April 25   Sweden   Switzerland  4 6       Finland  Czech republic   1 3\\n            Russia   Canada       1 3       Germany   USA             6 3\\n\\n April 26   Austria   Italy                 France   Norway\\t\\t20 00\\n\\n \\n PLAYOFFS \\n          \\n\\n April 27 \\tQuarterfinals\\n\\t\\tSweden   USA\\t\\t\\t\\t\\t\\t15 30\\n\\t\\tRussia   Germany\\t\\t\\t\\t\\t20 00\\n\\n April 28 \\tQuarterfinals\\n\\t\\tCanada   Finland\\t\\t\\t\\t\\t15 30\\n\\t\\tItaly Switzerland   Czech republic\\t\\t\\t20 00\\n\\n April 29 \\tRelegation\\n\\t\\tA  5   B  6\\t\\t\\t\\t\\t\\t15 30\\n\\t\\tA  6   B  5\\t\\t\\t\\t\\t\\t20 00\\n\\n April 30 \\tSemifinals\\n\\t\\tA  1 B  4   A  3 B  2\\t\\t\\t\\t\\t15 30\\n\\t\\tA  4 B  1   A  2 B  3\\t\\t\\t\\t\\t20 00\\n\\n May 1 \\t\\tRelegation\\t\\t\\t\\t\\t\\t14 30\\n\\t\\tBronze medal game \\t\\t\\t\\t\\t19 00\\n\\n May 2 \\t\\tFINAL\\t\\t\\t\\t\\t\\t\\t15 00\\n\\n  \\n           Staffan Axelsson\\n           etxonss ufsa ericsson se\\n  _        r s h  contact for Swedish hockey\\n'),\n",
              " ('file:/content/20news-18828/rec.sport.hockey/53589',\n",
              "  'From  jason studsys mscs mu edu  Jason Hanson \\nSubject  Re  NHL team in Milwaukee\\n\\nNewsgroups  rec sport hockey\\nSubject  Re  NHL team in Milwaukee\\nSummary  \\nExpires  \\nReferences   1qhsfe 80v access digex net   1993Apr15 093354 14844 abo fi   1993Apr16 131843 24012 walter cray com \\nSender  \\nFollowup To  \\nDistribution  \\nOrganization  Marquette University   Department MSCS\\nKeywords  \\n\\nIn article  1993Apr16 131843 24012 walter cray com  cbetz radioman cray com  Charles Betz   x66442 CF ENG   writes \\n \\n Bradley Center in Milwaukee is home to the Milwaukee Admirals minor leauge\\n hockey team   The owner of the Admirals  sorry  I can t remember his name \\n either owns or at least shelled out the majority of the funds to build the\\n Bradley Center \\n\\nLloyd Pettit married into Allen Bradley Corp   ab com  family and owns the\\nAdmirals   He donated the Bradley Center and the new Pettit National Ice\\nCenter \\n\\n Supposedly he was approached by the NHL about an expansion franchise  but \\n turned it down because he thought the franchise fee of  50 million was too\\n high \\n\\nThis is not the way I have heard it   See  Lloyd  as he is affectionately\\nreferred to by Milwaukeeans and Bob Uecker  bought the Bradley Center  TO  get\\nthe NHL to come here \\n\\n Like I said  I don t know whether this story is true or just a rumor  but if\\n it s true  don t look for an NHL team in Milwaukee anytime soon   The Admirals\\n aren t going to be forced out of the building and you won t see an NHL club\\n and a minor league club in the same building  especially since the NBA s\\n Milwaukee Bucks play there as well \\n\\nYeah  the Bucks  the Milwaukee Wave  soccer   the Admirals  the Marquette\\nWarriors  concerts and a bunch of other things   \\n   \\nJason Hanson            915 W  Wisconsin Ave  1010      414  288 2179\\nMarquette University     Milwaukee  WI 53233 2373      Ham Radio  N9LEA AE\\n    jason studsys mscs mu edu             n9lea n0ary  nocal ca usa na    \\n'),\n",
              " ('file:/content/20news-18828/rec.sport.hockey/54260',\n",
              "  'From  sclark epas utoronto ca  Susan Clark \\nSubject  Re  If You Were Pat Burns    \\n\\n\\tBorchevsky is 5 9  and Gilmour is 5 11    I think Gilmour slightly\\noutweighs Borchevsky   Andreychuk is also about 5 11   I think \\n\\nSusan\\nteeheehee   oops \\n\\n'),\n",
              " ('file:/content/20news-18828/rec.sport.hockey/53969',\n",
              "  'From  golchowy alchemy chem utoronto ca  Gerald Olchowy \\nSubject  Re  RUMOUR   Keenan signs with Rangers \\n\\nIn article  1993Apr16 171347 784 news columbia edu  gld cunixb cc columbia edu  Gary L Dare  writes \\n \\n UPI Clarinet has just relayed a  scoop  from the Toronto Sun\\n  or was that Star   I like the Star myself      that Iron Mike\\n Keenan has come to an agreement with the New York Rangers for\\n next season   Interestingly  this comes the day after the Times\\n Sports had an editorial about how the Rangers need their own\\n Pat Riley     who cares about what happens after next season \\n \\n\\nThe rumour was basically everywhere in Toronto based on reports\\nthat Keenan has told both San Jose and Philadelphia that he\\nwas no longer interested in pursuing further negotiations with\\neither team  \\n\\nThe Ranger announcement is supposed to happen tomorrow supposedly \\n\\nThe Rangers have so many veterans that they had to get a coach\\nwith  weight  and a proven record   and whom they know Messier respects \\n\\nGerald\\n\\n'),\n",
              " ('file:/content/20news-18828/rec.sport.hockey/53708',\n",
              "  'From  fmsalvat eos ncsu edu  FRANK MICHAE SALVATORE \\nSubject  Re  Get Real   Caps have no chance\\n\\n\\nIn article  1993Apr15 162719 staff dccs upenn edu   filinuk staff dccs upenn edu  Geoff Filinuk  writes \\n  \\tAnyone who really believes that the Caps can beat\\n  the Pens are kidding themselves   The Pens may not loose\\n  one game in the playoffs \\n\\n\\nLet s be honest   The Pens may not  loose  one game as you\\nput it  but they will definitely lose one game   Remember \\nthe regular season doesn t mean much when it comes to \\nplayoff time   The Caps have a shot at least   the Flyers\\nsure don t\\n\\nFrank Salvatore\\nfmsalvat eos ncsu edu\\n'),\n",
              " ('file:/content/20news-18828/rec.sport.hockey/53849',\n",
              "  'From  ayari judikael loria fr  Ayari Iskander \\nSubject  Re  How to beat Pittsburgh \\n\\nIn article  1993Apr15 214902 3372 guvax acc georgetown edu   apanjabi guvax acc georgetown edu writes \\n   In article  AfnKOVK00UhB01RDtJ andrew cmu edu   Robert Angelo Pleshar  rp16  andrew cmu edu  writes \\n     \\t kfnJYea00Uh_I1VmUs andrew cmu edu \\n     NNTP Posting Host  po5 andrew cmu edu\\n     In Reply To   kfnJYea00Uh_I1VmUs andrew cmu edu \\n     \\n     from Anna Matyas \\n      Now if we could just clone Chelios s personality and transplant it\\n      into all of the defensemen on the Islanders  Capitals  and Devils   \\n       \\n      Gerald\\n      \\n     In other words  you want to turn them all into assholes so they\\n     will spend lots of time in the penalty box and get lots of\\n     misconducts \\n      \\n     And this comes from a Chelios fan   \\n     \\n     Yeah  and also be second in the team in scoring and play about 35\\n     minutes a game and play on the power play and kill penalties and be the\\n     best defenseman in the league  I d take a whole team of Chelioses if I\\n     could   That way  when one got a penalty the others could kill it  \\n     \\n     Ralph\\n   \\n    HOW TO BEAT PITTSBURGH   \\n   \\n   \\tI Mario Lemieux\\n   \\t\\tA Death\\n   \\t\\t\\t1 Too much Kimo\\n   \\t\\t\\t2 Slash to skull\\n   \\t\\t\\t3 Ask the Rangers  Slashing his wrist     \\n   \\tII Jaromir Jagr\\n   \\t\\tA Deportation\\n   \\t\\t\\t1 Send him back to whatever Commie country \\n   \\t\\t\\t  he s from\\n   \\t\\t\\t2 Tell him that Bill Clinton is going too\\n   \\tIII Kevin Stevens\\n   \\t\\tA Fighting\\n   \\t\\t\\t1 Call Bob Probert\\n   \\t\\t\\t2 Call Tie Domi\\n   \\t\\t\\t3 Call my grandmother  She d kick his ass \\n    \\n\\nSince everybody wants to see Pittsburgh players not playing  the\\nStanley cup would be devaluated \\n\\n   \\n_____________________________________________________\\n\\n  Iskander AYARI\\n\\n  Email   Iskander Ayari loria fr ou ayari loria fr\\n_____________________________________________________\\n\\n'),\n",
              " ('file:/content/20news-18828/rec.sport.hockey/54528',\n",
              "  'From  galvint cs nps navy mil  thomas galvin \\nSubject  Re  ESPN\\n\\nIn article  randolin 3 735424986 polisci umn edu  randolin polisci umn edu  Robert Andolina  writes \\n The thing that confuses me most about ESPN is that they decided to show the \\n Penguins and Devils again on Thursday night   Being that both of the first \\n two games were dominated by Pitt   you would think that they would show a \\n different game   This is in addition to the fact that they should show other \\n games just for the sake of fair exposure \\n\\nNESN owns the rights to Bruin telecasts   I suspect that NESN was only\\ngoing to sell one telecast to ESPN  remember  ESPN only owns exclusive\\nrights to the FINALS  not the entire playoffs    Since ESPN bought the\\nSCA contract  there are less wrangles to untie with showing the Devils\\nand Penguins \\n\\n \\n Also  some of you should know that  as far as I can tell  ESPN is not going \\n to show Campbell conference games regularly in the first two rounds   I \\n believe that they are only going to show Campbell games in the first two \\n rounds as those series wear on  games 6   7  or perhaps games 5  6  7   \\n \\n\\nI think the same broadcast rights factor comes into it   Plus they\\nhave no way of fitting western game times into their current schedule\\nunless the NHL was willing to make a western club move up their game \\nI think the NHL got as much as it could when it shuffled the deck for ABC \\n\\n Also  does anyone have info on ABC coverage for this Sunday  4 25  \\n \\n \\n\\nSame exact coverage as last week   Pit NJ game 4 in the east  Chi StL\\nin the central  LA Cgy in the mountains and west \\n\\n \\n Robert Andolina\\n randolin polisci umn edu\\n \\n\\n Tom Galvin      galvint taurus cs nps navy mil\\n\\n\\n'),\n",
              " ('file:/content/20news-18828/rec.sport.hockey/52628',\n",
              "  'From  damelio progress COM  Stephen D Amelio \\nSubject  Re  What was Ray doing \\n\\ndaveb thewho East Sun COM  Dave Brewer  writes \\n\\n In yesterday s fracus between Rob Ray and Brent Hughes  was it the camera angle or was\\n Ray actually punching Hughes where it appeared he was punching him   For those that didn t\\n see the game   it was several inches below the belt and he punched him there quite a few\\n times   Dreadful \\n\\n Also  why did Poulin get four minutes \\n\\n\\nI ve been watching   playing hockey for a good long time now  and\\nI ve seen players with questionable tactics  but never have I seen\\nwhat Ray did on Sunday  This guy gets my all time loser award  It s\\none thing to repeatedly cross check someone to the back of the neck\\nwhen they are down  it s another thing to have a fist fight with\\nsomeones balls  Ray should be thrown out of the league  what an\\na  hole \\n\\n Steve\\n\\n\\n\\n'),\n",
              " ('file:/content/20news-18828/rec.sport.hockey/53759',\n",
              "  'From  golchowy alchemy chem utoronto ca  Gerald Olchowy \\nSubject  Re  WC 93  Results  April 18\\n\\nIn article  1993Apr19 211406 22528 iscnvx lmsc lockheed com  spiegel sgi413 msd lmsc lockheed com  Mark Spiegel  writes \\n \\tAccording to the SJ Murky News the Team USA roster is  names and\\n \\tteams played for in 1992 93 listed  \\n \\n \\t\\tGoalies\\n \\t\\t       \\n        \\n \\t\\tForwards\\n \\t\\t        \\n \\tTony Amonte\\tNew York Rangers\\n \\tTed Drury\\tHarvard Univ\\n \\tRob Gaudreau\\tSan Jose  Sharks\\n \\tCraig Johnson\\tUniv of Minnesota\\n \\tJeff Lazaro\\tOttawa Senators\\n \\tMike Modano\\tMinnesota North Stars\\n \\tEd Olczyk\\tNew York Rangers\\n \\tDerek Plante\\tUniv of Minnesota Duluth\\n \\tShion Podein\\tEdmonton Oilers\\n \\tDavid Sacco\\tBoston University\\n \\tDarren Turcotte New York Rangers\\n \\tDoug Weight\\tEdmonton Oilers\\n \\n\\nIt looks like the Edmonton Oilers just decided to take a European\\nvacation this spring   \\n\\nRanford  Tugnutt  Benning  Manson  Smith  Buchberger  and Corson\\nare playing for Canada \\n\\nPodein and Weight are playing for the US \\n\\nIs Kravchuk playing for the Russians   I know he had nagging\\ninjuries late in the season \\n\\nPodein is an interesting case   because he was eligible to\\nplay in Cape Breton in the AHL playoffs like Kovalev  Zubov \\nand Andersson   obviously Sather and Pocklington are not\\nthe total scrooges everyone makes them out to be   certainly\\nin this case they ve massively outclassed Paramount and the\\nNew York Rangers \\n\\nGerald\\n\\n'),\n",
              " ('file:/content/20news-18828/rec.sport.hockey/53641',\n",
              "  'From  rrmadiso undergrad math uwaterloo ca      CHUCK     \\nSubject  CORRECTIONS     Re  Playoff predictions\\n\\n\\nEveryone    Read this   If you have already sent your predictions  please\\ncorrect the Patrick division if you would like   You have until midnight\\non monday  my time  \\n\\nYou may need to correct these games   \\n\\n\\n3   Pittsburgh vs  New Jersey\\n4   New York Islanders vs  Washington\\n\\n10   Patrick Division Winner\\n\\n13   Wales Conference Winner\\n\\n15   Stanley Cup Winner\\n\\nPlease forward all corrections to\\n\\nRichard Madison\\nrrmadiso napier uwaterloo ca\\n\\n\\n\\n 1st rd \\tPens over Isles in 4 \\n \\tDevils over Caps in 6 \\n 2nd \\tPens over Devils in 7 \\n\\n\\n')]"
            ]
          },
          "metadata": {
            "tags": []
          },
          "execution_count": 41
        }
      ]
    },
    {
      "cell_type": "markdown",
      "metadata": {
        "id": "kLsRFBJAprEr"
      },
      "source": [
        "\n",
        "# 2.Stemming\n"
      ]
    },
    {
      "cell_type": "code",
      "metadata": {
        "id": "R0pf7yJLhPjQ",
        "outputId": "082509be-f4c4-443e-ccda-c2b44e2af7a8",
        "colab": {
          "base_uri": "https://localhost:8080/"
        }
      },
      "source": [
        "#function for steming\n",
        "from nltk.stem.porter import PorterStemmer\n",
        "porter_stemmer = PorterStemmer()\n",
        "def stemmming(x):\n",
        "  char=\"\"\n",
        "\n",
        "  for w in x.split():\n",
        "    porter_stemmer = PorterStemmer()\n",
        "    char=char+\" \" + porter_stemmer.stem(w)\n",
        "  return char\n",
        "\n",
        "\n",
        "one_RDD=one_RDD.mapValues(stemmming)\n",
        "one_RDD.take(10)"
      ],
      "execution_count": null,
      "outputs": [
        {
          "output_type": "execute_result",
          "data": {
            "text/plain": [
              "[('file:/content/20news-18828/rec.sport.hockey/54507',\n",
              "  ' from etxonss ufsa ericsson se staffan axelsson subject WC 93 score and stand april 25 1993 world championship in germani group A stand munich group B stand dortmund GP W T L GF GA P GP W T L GF GA P canada 5 5 0 0 31 4 27 10 czech republ 5 4 1 0 17 4 13 9 sweden 5 3 0 2 17 14 3 6 germani 5 4 0 1 20 12 8 8 russia 5 2 1 2 15 12 3 5 usa 5 2 2 1 14 10 4 6 switzerland 5 2 0 3 11 14 3 4 finland 5 2 1 2 7 7 0 5 itali 4 1 1 2 7 19 12 3 norway 4 0 0 4 1 13 12 0 austria 4 0 0 4 3 21 18 0 franc 4 0 0 4 6 19 13 0 april 18 itali russia 2 2 norway germani 0 6 sweden austria 1 0 usa czech republ 1 1 april 19 canada switzerland 2 0 russia austria 4 2 finland franc 2 0 april 20 sweden canada 1 4 czech republ germani 5 0 switzerland itali 0 1 finland usa 1 1 april 21 germani franc 5 3 itali sweden 2 6 czech republ norway 2 0 april 22 switzerland russia 0 6 usa franc 6 1 austria canada 0 11 norway finland 0 2 april 23 switzerland austria 5 1 germani finland 3 1 april 24 russia sweden 2 5 czech republ franc 6 2 canada itali 11 2 usa norway 3 1 april 25 sweden switzerland 4 6 finland czech republ 1 3 russia canada 1 3 germani usa 6 3 april 26 austria itali franc norway 20 00 playoff april 27 quarterfin sweden usa 15 30 russia germani 20 00 april 28 quarterfin canada finland 15 30 itali switzerland czech republ 20 00 april 29 releg A 5 B 6 15 30 A 6 B 5 20 00 april 30 semifin A 1 B 4 A 3 B 2 15 30 A 4 B 1 A 2 B 3 20 00 may 1 releg 14 30 bronz medal game 19 00 may 2 final 15 00 staffan axelsson etxonss ufsa ericsson se _ r s h contact for swedish hockey'),\n",
              " ('file:/content/20news-18828/rec.sport.hockey/53589',\n",
              "  ' from jason studsi msc mu edu jason hanson subject Re nhl team in milwauke newsgroup rec sport hockey subject Re nhl team in milwauke summari expir refer 1qhsfe 80v access digex net 1993apr15 093354 14844 abo fi 1993apr16 131843 24012 walter cray com sender followup To distribut organ marquett univers depart msc keyword In articl 1993apr16 131843 24012 walter cray com cbetz radioman cray com charl betz x66442 CF eng write bradley center in milwauke is home to the milwauke admir minor leaug hockey team the owner of the admir sorri I can t rememb hi name either own or at least shell out the major of the fund to build the bradley center lloyd pettit marri into allen bradley corp ab com famili and own the admir He donat the bradley center and the new pettit nation ice center supposedli he wa approach by the nhl about an expans franchis but turn it down becaus he thought the franchis fee of 50 million wa too high thi is not the way I have heard it see lloyd as he is affection refer to by milwaukeean and bob uecker bought the bradley center TO get the nhl to come here like I said I don t know whether thi stori is true or just a rumor but if it s true don t look for an nhl team in milwauke anytim soon the admir aren t go to be forc out of the build and you won t see an nhl club and a minor leagu club in the same build especi sinc the nba s milwauke buck play there as well yeah the buck the milwauke wave soccer the admir the marquett warrior concert and a bunch of other thing jason hanson 915 W wisconsin ave 1010 414 288 2179 marquett univers milwauke WI 53233 2373 ham radio n9lea AE jason studsi msc mu edu n9lea n0ari nocal ca usa na'),\n",
              " ('file:/content/20news-18828/rec.sport.hockey/54260',\n",
              "  ' from sclark epa utoronto ca susan clark subject Re If you were pat burn borchevski is 5 9 and gilmour is 5 11 I think gilmour slightli outweigh borchevski andreychuk is also about 5 11 I think susan teeheehe oop'),\n",
              " ('file:/content/20news-18828/rec.sport.hockey/53969',\n",
              "  ' from golchowi alchemi chem utoronto ca gerald olchowi subject Re rumour keenan sign with ranger In articl 1993apr16 171347 784 news columbia edu gld cunixb cc columbia edu gari L dare write upi clarinet ha just relay a scoop from the toronto sun or wa that star I like the star myself that iron mike keenan ha come to an agreement with the new york ranger for next season interestingli thi come the day after the time sport had an editori about how the ranger need their own pat riley who care about what happen after next season the rumour wa basic everywher in toronto base on report that keenan ha told both san jose and philadelphia that he wa no longer interest in pursu further negoti with either team the ranger announc is suppos to happen tomorrow supposedli the ranger have so mani veteran that they had to get a coach with weight and a proven record and whom they know messier respect gerald'),\n",
              " ('file:/content/20news-18828/rec.sport.hockey/53708',\n",
              "  ' from fmsalvat eo ncsu edu frank micha salvator subject Re get real cap have no chanc In articl 1993apr15 162719 staff dcc upenn edu filinuk staff dcc upenn edu geoff filinuk write anyon who realli believ that the cap can beat the pen are kid themselv the pen may not loos one game in the playoff let s be honest the pen may not loos one game as you put it but they will definit lose one game rememb the regular season doesn t mean much when it come to playoff time the cap have a shot at least the flyer sure don t frank salvator fmsalvat eo ncsu edu'),\n",
              " ('file:/content/20news-18828/rec.sport.hockey/53849',\n",
              "  ' from ayari judikael loria fr ayari iskand subject Re how to beat pittsburgh In articl 1993apr15 214902 3372 guvax acc georgetown edu apanjabi guvax acc georgetown edu write In articl afnkovk00uhb01rdtj andrew cmu edu robert angelo pleshar rp16 andrew cmu edu write kfnjyea00uh_i1vmu andrew cmu edu nntp post host po5 andrew cmu edu In repli To kfnjyea00uh_i1vmu andrew cmu edu from anna matya now if we could just clone chelio s person and transplant it into all of the defensemen on the island capit and devil gerald In other word you want to turn them all into asshol so they will spend lot of time in the penalti box and get lot of misconduct and thi come from a chelio fan yeah and also be second in the team in score and play about 35 minut a game and play on the power play and kill penalti and be the best defenseman in the leagu I d take a whole team of chelios if I could that way when one got a penalti the other could kill it ralph how TO beat pittsburgh I mario lemieux A death 1 too much kimo 2 slash to skull 3 ask the ranger slash hi wrist II jaromir jagr A deport 1 send him back to whatev commi countri he s from 2 tell him that bill clinton is go too iii kevin steven A fight 1 call bob probert 2 call tie domi 3 call my grandmoth she d kick hi ass sinc everybodi want to see pittsburgh player not play the stanley cup would be devalu _____________________________________________________ iskand ayari email iskand ayari loria fr ou ayari loria fr _____________________________________________________'),\n",
              " ('file:/content/20news-18828/rec.sport.hockey/54528',\n",
              "  ' from galvint cs np navi mil thoma galvin subject Re espn In articl randolin 3 735424986 polisci umn edu randolin polisci umn edu robert andolina write the thing that confus me most about espn is that they decid to show the penguin and devil again on thursday night be that both of the first two game were domin by pitt you would think that they would show a differ game thi is in addit to the fact that they should show other game just for the sake of fair exposur nesn own the right to bruin telecast I suspect that nesn wa onli go to sell one telecast to espn rememb espn onli own exclus right to the final not the entir playoff sinc espn bought the sca contract there are less wrangl to unti with show the devil and penguin also some of you should know that as far as I can tell espn is not go to show campbel confer game regularli in the first two round I believ that they are onli go to show campbel game in the first two round as those seri wear on game 6 7 or perhap game 5 6 7 I think the same broadcast right factor come into it plu they have no way of fit western game time into their current schedul unless the nhl wa will to make a western club move up their game I think the nhl got as much as it could when it shuffl the deck for abc also doe anyon have info on abc coverag for thi sunday 4 25 same exact coverag as last week pit NJ game 4 in the east chi stl in the central LA cgi in the mountain and west robert andolina randolin polisci umn edu tom galvin galvint tauru cs np navi mil'),\n",
              " ('file:/content/20news-18828/rec.sport.hockey/52628',\n",
              "  ' from damelio progress com stephen D amelio subject Re what wa ray do daveb thewho east sun com dave brewer write In yesterday s fracu between rob ray and brent hugh wa it the camera angl or wa ray actual punch hugh where it appear he wa punch him for those that didn t see the game it wa sever inch below the belt and he punch him there quit a few time dread also whi did poulin get four minut I ve been watch play hockey for a good long time now and I ve seen player with question tactic but never have I seen what ray did on sunday thi guy get my all time loser award It s one thing to repeatedli cross check someon to the back of the neck when they are down it s anoth thing to have a fist fight with someon ball ray should be thrown out of the leagu what an a hole steve'),\n",
              " ('file:/content/20news-18828/rec.sport.hockey/53759',\n",
              "  ' from golchowi alchemi chem utoronto ca gerald olchowi subject Re WC 93 result april 18 In articl 1993apr19 211406 22528 iscnvx lmsc lockhe com spiegel sgi413 msd lmsc lockhe com mark spiegel write accord to the SJ murki new the team usa roster is name and team play for in 1992 93 list goali forward toni amont new york ranger ted druri harvard univ rob gaudreau san jose shark craig johnson univ of minnesota jeff lazaro ottawa senat mike modano minnesota north star Ed olczyk new york ranger derek plant univ of minnesota duluth shion podein edmonton oiler david sacco boston univers darren turcott new york ranger doug weight edmonton oiler It look like the edmonton oiler just decid to take a european vacat thi spring ranford tugnutt ben manson smith buchberg and corson are play for canada podein and weight are play for the US Is kravchuk play for the russian I know he had nag injuri late in the season podein is an interest case becaus he wa elig to play in cape breton in the ahl playoff like kovalev zubov and andersson obvious sather and pocklington are not the total scroog everyon make them out to be certainli in thi case they ve massiv outclass paramount and the new york ranger gerald'),\n",
              " ('file:/content/20news-18828/rec.sport.hockey/53641',\n",
              "  ' from rrmadiso undergrad math uwaterloo ca chuck subject correct Re playoff predict everyon read thi If you have alreadi sent your predict pleas correct the patrick divis if you would like you have until midnight on monday my time you may need to correct these game 3 pittsburgh vs new jersey 4 new york island vs washington 10 patrick divis winner 13 wale confer winner 15 stanley cup winner pleas forward all correct to richard madison rrmadiso napier uwaterloo ca 1st rd pen over isl in 4 devil over cap in 6 2nd pen over devil in 7')]"
            ]
          },
          "metadata": {
            "tags": []
          },
          "execution_count": 42
        }
      ]
    },
    {
      "cell_type": "markdown",
      "metadata": {
        "id": "wzWxsUclpz4j"
      },
      "source": [
        "\n",
        "#3.Lemmatization\n"
      ]
    },
    {
      "cell_type": "code",
      "metadata": {
        "id": "gUAY-fy-iME2",
        "outputId": "afbcc700-afe0-4c8b-cd44-4c3c85858794",
        "colab": {
          "base_uri": "https://localhost:8080/"
        }
      },
      "source": [
        "#Lemmatization\n",
        "import nltk\n",
        "nltk.download('punkt')\n",
        "nltk.download('wordnet')\n",
        "from nltk.stem import WordNetLemmatizer\n",
        "wordnet_lemmatizer = WordNetLemmatizer()\n",
        "\n",
        "#function for remove Lemmatization\n",
        "def lemmatization(x):\n",
        "  char=\"\"\n",
        "  for w in x.split():\n",
        "    wordnet_lemmatizer = WordNetLemmatizer()\n",
        "    char=char + \" \"+wordnet_lemmatizer.lemmatize(w)\n",
        "  return char\n",
        "\n",
        "\n",
        "one_RDD=one_RDD.mapValues(lemmatization)\n",
        "one_RDD.take(10)"
      ],
      "execution_count": null,
      "outputs": [
        {
          "output_type": "stream",
          "text": [
            "[nltk_data] Downloading package punkt to /root/nltk_data...\n",
            "[nltk_data]   Package punkt is already up-to-date!\n",
            "[nltk_data] Downloading package wordnet to /root/nltk_data...\n",
            "[nltk_data]   Package wordnet is already up-to-date!\n"
          ],
          "name": "stdout"
        },
        {
          "output_type": "execute_result",
          "data": {
            "text/plain": [
              "[('file:/content/20news-18828/rec.sport.hockey/54507',\n",
              "  ' from etxonss ufsa ericsson se staffan axelsson subject WC 93 score and stand april 25 1993 world championship in germani group A stand munich group B stand dortmund GP W T L GF GA P GP W T L GF GA P canada 5 5 0 0 31 4 27 10 czech republ 5 4 1 0 17 4 13 9 sweden 5 3 0 2 17 14 3 6 germani 5 4 0 1 20 12 8 8 russia 5 2 1 2 15 12 3 5 usa 5 2 2 1 14 10 4 6 switzerland 5 2 0 3 11 14 3 4 finland 5 2 1 2 7 7 0 5 itali 4 1 1 2 7 19 12 3 norway 4 0 0 4 1 13 12 0 austria 4 0 0 4 3 21 18 0 franc 4 0 0 4 6 19 13 0 april 18 itali russia 2 2 norway germani 0 6 sweden austria 1 0 usa czech republ 1 1 april 19 canada switzerland 2 0 russia austria 4 2 finland franc 2 0 april 20 sweden canada 1 4 czech republ germani 5 0 switzerland itali 0 1 finland usa 1 1 april 21 germani franc 5 3 itali sweden 2 6 czech republ norway 2 0 april 22 switzerland russia 0 6 usa franc 6 1 austria canada 0 11 norway finland 0 2 april 23 switzerland austria 5 1 germani finland 3 1 april 24 russia sweden 2 5 czech republ franc 6 2 canada itali 11 2 usa norway 3 1 april 25 sweden switzerland 4 6 finland czech republ 1 3 russia canada 1 3 germani usa 6 3 april 26 austria itali franc norway 20 00 playoff april 27 quarterfin sweden usa 15 30 russia germani 20 00 april 28 quarterfin canada finland 15 30 itali switzerland czech republ 20 00 april 29 releg A 5 B 6 15 30 A 6 B 5 20 00 april 30 semifin A 1 B 4 A 3 B 2 15 30 A 4 B 1 A 2 B 3 20 00 may 1 releg 14 30 bronz medal game 19 00 may 2 final 15 00 staffan axelsson etxonss ufsa ericsson se _ r s h contact for swedish hockey'),\n",
              " ('file:/content/20news-18828/rec.sport.hockey/53589',\n",
              "  ' from jason studsi msc mu edu jason hanson subject Re nhl team in milwauke newsgroup rec sport hockey subject Re nhl team in milwauke summari expir refer 1qhsfe 80v access digex net 1993apr15 093354 14844 abo fi 1993apr16 131843 24012 walter cray com sender followup To distribut organ marquett univers depart msc keyword In articl 1993apr16 131843 24012 walter cray com cbetz radioman cray com charl betz x66442 CF eng write bradley center in milwauke is home to the milwauke admir minor leaug hockey team the owner of the admir sorri I can t rememb hi name either own or at least shell out the major of the fund to build the bradley center lloyd pettit marri into allen bradley corp ab com famili and own the admir He donat the bradley center and the new pettit nation ice center supposedli he wa approach by the nhl about an expans franchis but turn it down becaus he thought the franchis fee of 50 million wa too high thi is not the way I have heard it see lloyd a he is affection refer to by milwaukeean and bob uecker bought the bradley center TO get the nhl to come here like I said I don t know whether thi stori is true or just a rumor but if it s true don t look for an nhl team in milwauke anytim soon the admir aren t go to be forc out of the build and you won t see an nhl club and a minor leagu club in the same build especi sinc the nba s milwauke buck play there a well yeah the buck the milwauke wave soccer the admir the marquett warrior concert and a bunch of other thing jason hanson 915 W wisconsin ave 1010 414 288 2179 marquett univers milwauke WI 53233 2373 ham radio n9lea AE jason studsi msc mu edu n9lea n0ari nocal ca usa na'),\n",
              " ('file:/content/20news-18828/rec.sport.hockey/54260',\n",
              "  ' from sclark epa utoronto ca susan clark subject Re If you were pat burn borchevski is 5 9 and gilmour is 5 11 I think gilmour slightli outweigh borchevski andreychuk is also about 5 11 I think susan teeheehe oop'),\n",
              " ('file:/content/20news-18828/rec.sport.hockey/53969',\n",
              "  ' from golchowi alchemi chem utoronto ca gerald olchowi subject Re rumour keenan sign with ranger In articl 1993apr16 171347 784 news columbia edu gld cunixb cc columbia edu gari L dare write upi clarinet ha just relay a scoop from the toronto sun or wa that star I like the star myself that iron mike keenan ha come to an agreement with the new york ranger for next season interestingli thi come the day after the time sport had an editori about how the ranger need their own pat riley who care about what happen after next season the rumour wa basic everywher in toronto base on report that keenan ha told both san jose and philadelphia that he wa no longer interest in pursu further negoti with either team the ranger announc is suppos to happen tomorrow supposedli the ranger have so mani veteran that they had to get a coach with weight and a proven record and whom they know messier respect gerald'),\n",
              " ('file:/content/20news-18828/rec.sport.hockey/53708',\n",
              "  ' from fmsalvat eo ncsu edu frank micha salvator subject Re get real cap have no chanc In articl 1993apr15 162719 staff dcc upenn edu filinuk staff dcc upenn edu geoff filinuk write anyon who realli believ that the cap can beat the pen are kid themselv the pen may not loo one game in the playoff let s be honest the pen may not loo one game a you put it but they will definit lose one game rememb the regular season doesn t mean much when it come to playoff time the cap have a shot at least the flyer sure don t frank salvator fmsalvat eo ncsu edu'),\n",
              " ('file:/content/20news-18828/rec.sport.hockey/53849',\n",
              "  ' from ayari judikael loria fr ayari iskand subject Re how to beat pittsburgh In articl 1993apr15 214902 3372 guvax acc georgetown edu apanjabi guvax acc georgetown edu write In articl afnkovk00uhb01rdtj andrew cmu edu robert angelo pleshar rp16 andrew cmu edu write kfnjyea00uh_i1vmu andrew cmu edu nntp post host po5 andrew cmu edu In repli To kfnjyea00uh_i1vmu andrew cmu edu from anna matya now if we could just clone chelio s person and transplant it into all of the defensemen on the island capit and devil gerald In other word you want to turn them all into asshol so they will spend lot of time in the penalti box and get lot of misconduct and thi come from a chelio fan yeah and also be second in the team in score and play about 35 minut a game and play on the power play and kill penalti and be the best defenseman in the leagu I d take a whole team of chelios if I could that way when one got a penalti the other could kill it ralph how TO beat pittsburgh I mario lemieux A death 1 too much kimo 2 slash to skull 3 ask the ranger slash hi wrist II jaromir jagr A deport 1 send him back to whatev commi countri he s from 2 tell him that bill clinton is go too iii kevin steven A fight 1 call bob probert 2 call tie domi 3 call my grandmoth she d kick hi as sinc everybodi want to see pittsburgh player not play the stanley cup would be devalu _____________________________________________________ iskand ayari email iskand ayari loria fr ou ayari loria fr _____________________________________________________'),\n",
              " ('file:/content/20news-18828/rec.sport.hockey/54528',\n",
              "  ' from galvint c np navi mil thoma galvin subject Re espn In articl randolin 3 735424986 polisci umn edu randolin polisci umn edu robert andolina write the thing that confus me most about espn is that they decid to show the penguin and devil again on thursday night be that both of the first two game were domin by pitt you would think that they would show a differ game thi is in addit to the fact that they should show other game just for the sake of fair exposur nesn own the right to bruin telecast I suspect that nesn wa onli go to sell one telecast to espn rememb espn onli own exclus right to the final not the entir playoff sinc espn bought the sca contract there are le wrangl to unti with show the devil and penguin also some of you should know that a far a I can tell espn is not go to show campbel confer game regularli in the first two round I believ that they are onli go to show campbel game in the first two round a those seri wear on game 6 7 or perhap game 5 6 7 I think the same broadcast right factor come into it plu they have no way of fit western game time into their current schedul unless the nhl wa will to make a western club move up their game I think the nhl got a much a it could when it shuffl the deck for abc also doe anyon have info on abc coverag for thi sunday 4 25 same exact coverag a last week pit NJ game 4 in the east chi stl in the central LA cgi in the mountain and west robert andolina randolin polisci umn edu tom galvin galvint tauru c np navi mil'),\n",
              " ('file:/content/20news-18828/rec.sport.hockey/52628',\n",
              "  ' from damelio progress com stephen D amelio subject Re what wa ray do daveb thewho east sun com dave brewer write In yesterday s fracu between rob ray and brent hugh wa it the camera angl or wa ray actual punch hugh where it appear he wa punch him for those that didn t see the game it wa sever inch below the belt and he punch him there quit a few time dread also whi did poulin get four minut I ve been watch play hockey for a good long time now and I ve seen player with question tactic but never have I seen what ray did on sunday thi guy get my all time loser award It s one thing to repeatedli cross check someon to the back of the neck when they are down it s anoth thing to have a fist fight with someon ball ray should be thrown out of the leagu what an a hole steve'),\n",
              " ('file:/content/20news-18828/rec.sport.hockey/53759',\n",
              "  ' from golchowi alchemi chem utoronto ca gerald olchowi subject Re WC 93 result april 18 In articl 1993apr19 211406 22528 iscnvx lmsc lockhe com spiegel sgi413 msd lmsc lockhe com mark spiegel write accord to the SJ murki new the team usa roster is name and team play for in 1992 93 list goali forward toni amont new york ranger ted druri harvard univ rob gaudreau san jose shark craig johnson univ of minnesota jeff lazaro ottawa senat mike modano minnesota north star Ed olczyk new york ranger derek plant univ of minnesota duluth shion podein edmonton oiler david sacco boston univers darren turcott new york ranger doug weight edmonton oiler It look like the edmonton oiler just decid to take a european vacat thi spring ranford tugnutt ben manson smith buchberg and corson are play for canada podein and weight are play for the US Is kravchuk play for the russian I know he had nag injuri late in the season podein is an interest case becaus he wa elig to play in cape breton in the ahl playoff like kovalev zubov and andersson obvious sather and pocklington are not the total scroog everyon make them out to be certainli in thi case they ve massiv outclass paramount and the new york ranger gerald'),\n",
              " ('file:/content/20news-18828/rec.sport.hockey/53641',\n",
              "  ' from rrmadiso undergrad math uwaterloo ca chuck subject correct Re playoff predict everyon read thi If you have alreadi sent your predict plea correct the patrick divis if you would like you have until midnight on monday my time you may need to correct these game 3 pittsburgh v new jersey 4 new york island v washington 10 patrick divis winner 13 wale confer winner 15 stanley cup winner plea forward all correct to richard madison rrmadiso napier uwaterloo ca 1st rd pen over isl in 4 devil over cap in 6 2nd pen over devil in 7')]"
            ]
          },
          "metadata": {
            "tags": []
          },
          "execution_count": 43
        }
      ]
    },
    {
      "cell_type": "code",
      "metadata": {
        "id": "dgT0Len4ikBs",
        "outputId": "02cff9a6-1f91-4d03-b8bc-7cead060195d",
        "colab": {
          "base_uri": "https://localhost:8080/"
        }
      },
      "source": [
        "#spliting word\n",
        "final_RDD=one_RDD.flatMapValues(lambda x: x.split())\n",
        "final_RDD.take(10)"
      ],
      "execution_count": null,
      "outputs": [
        {
          "output_type": "execute_result",
          "data": {
            "text/plain": [
              "[('file:/content/20news-18828/rec.sport.hockey/54507', 'from'),\n",
              " ('file:/content/20news-18828/rec.sport.hockey/54507', 'etxonss'),\n",
              " ('file:/content/20news-18828/rec.sport.hockey/54507', 'ufsa'),\n",
              " ('file:/content/20news-18828/rec.sport.hockey/54507', 'ericsson'),\n",
              " ('file:/content/20news-18828/rec.sport.hockey/54507', 'se'),\n",
              " ('file:/content/20news-18828/rec.sport.hockey/54507', 'staffan'),\n",
              " ('file:/content/20news-18828/rec.sport.hockey/54507', 'axelsson'),\n",
              " ('file:/content/20news-18828/rec.sport.hockey/54507', 'subject'),\n",
              " ('file:/content/20news-18828/rec.sport.hockey/54507', 'WC'),\n",
              " ('file:/content/20news-18828/rec.sport.hockey/54507', '93')]"
            ]
          },
          "metadata": {
            "tags": []
          },
          "execution_count": 26
        }
      ]
    },
    {
      "cell_type": "markdown",
      "metadata": {
        "id": "63h8PzteeZx1"
      },
      "source": [
        "#Searching user input word "
      ]
    },
    {
      "cell_type": "code",
      "metadata": {
        "id": "W_i6Es8geuLd",
        "outputId": "b3ed746f-1472-4b33-e297-dfa29d85e1ef",
        "colab": {
          "base_uri": "https://localhost:8080/"
        }
      },
      "source": [
        "search_word=input(\"enter a word : \")\n",
        "#filter the search word and store \n",
        "filtered_RDD=final_RDD.filter(lambda x: search_word in  x[1])\n",
        "wordcount_data=filtered_RDD.map(lambda x: (x,1)).reduceByKey(lambda x, y: (x+y))\n",
        "#sorting desending order using count \n",
        "sorted_data=wordcount_data.sortBy(lambda x:x[1],False)\n",
        "#collect 3 file with maximum count\n",
        "sorted_data.take(3)"
      ],
      "execution_count": null,
      "outputs": [
        {
          "output_type": "stream",
          "text": [
            "enter a word : subject\n"
          ],
          "name": "stdout"
        },
        {
          "output_type": "execute_result",
          "data": {
            "text/plain": [
              "[(('file:/content/20news-18828/sci.electronics/53569', 'subject'), 50),\n",
              " (('file:/content/20news-18828/comp.windows.x/66422', 'subject'), 40),\n",
              " (('file:/content/20news-18828/comp.windows.x/67882', 'subject'), 37)]"
            ]
          },
          "metadata": {
            "tags": []
          },
          "execution_count": 44
        }
      ]
    }
  ]
}